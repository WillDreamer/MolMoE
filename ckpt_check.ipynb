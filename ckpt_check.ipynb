{
 "cells": [
  {
   "cell_type": "code",
   "execution_count": 18,
   "metadata": {},
   "outputs": [],
   "source": [
    "import os\n",
    "import torch\n",
    "\n",
    "dirs = '/wanghaixin/MolMoE/_checkpoints/moe/conflict-llava-moleculestm-llama3-1b-naive_linear-all-task-lora-moe-mix-train-share-half/checkpoint-431580'\n",
    "\n",
    "ckpt_nonlora = torch.load('/wanghaixin/MolMoE/_checkpoints/moe/conflict-llava-moleculestm-llama3-1b-naive_linear-all-task-lora-moe-mix-train/checkpoint-400290/non_lora_trainables.bin')"
   ]
  },
  {
   "cell_type": "code",
   "execution_count": 22,
   "metadata": {},
   "outputs": [
    {
     "name": "stdout",
     "output_type": "stream",
     "text": [
      "base_model.model.language_model.model.layers.12.mlp.deepspeed_moe.gate.wg.weight tensor([-0.0002, -0.0006,  0.0005], dtype=torch.bfloat16)\n",
      "base_model.model.language_model.model.layers.13.mlp.deepspeed_moe.gate.wg.weight tensor([-0.0003,  0.0007, -0.0001], dtype=torch.bfloat16)\n",
      "base_model.model.language_model.model.layers.14.mlp.deepspeed_moe.gate.wg.weight tensor([1.9193e-05, 1.0777e-04, 3.2234e-04], dtype=torch.bfloat16)\n",
      "base_model.model.language_model.model.layers.15.mlp.deepspeed_moe.gate.wg.weight tensor([0.0001, 0.0001, 0.0001], dtype=torch.bfloat16)\n"
     ]
    }
   ],
   "source": [
    "for name,param in ckpt_nonlora.items():\n",
    "    if 'mlp.deepspeed_moe.gate.wg.weight' in name:\n",
    "        print(name,param.mean(-1))"
   ]
  },
  {
   "cell_type": "code",
   "execution_count": 19,
   "metadata": {},
   "outputs": [
    {
     "name": "stdout",
     "output_type": "stream",
     "text": [
      "base_model.model.mm_projector.weight.weight\n",
      "base_model.model.mm_projector.weight.bias\n",
      "base_model.model.language_model.model.layers.12.mlp.deepspeed_moe.gate.wg.weight\n",
      "base_model.model.language_model.model.layers.12.mlp.deepspeed_moe.experts.deepspeed_experts.0.gate_proj.weight\n",
      "base_model.model.language_model.model.layers.12.mlp.deepspeed_moe.experts.deepspeed_experts.0.up_proj.weight\n",
      "base_model.model.language_model.model.layers.12.mlp.deepspeed_moe.experts.deepspeed_experts.0.down_proj.weight\n",
      "base_model.model.language_model.model.layers.12.mlp.deepspeed_moe.experts.deepspeed_experts.1.gate_proj.weight\n",
      "base_model.model.language_model.model.layers.12.mlp.deepspeed_moe.experts.deepspeed_experts.1.up_proj.weight\n",
      "base_model.model.language_model.model.layers.12.mlp.deepspeed_moe.experts.deepspeed_experts.1.down_proj.weight\n",
      "base_model.model.language_model.model.layers.12.mlp.deepspeed_moe.experts.deepspeed_experts.2.gate_proj.weight\n",
      "base_model.model.language_model.model.layers.12.mlp.deepspeed_moe.experts.deepspeed_experts.2.up_proj.weight\n",
      "base_model.model.language_model.model.layers.12.mlp.deepspeed_moe.experts.deepspeed_experts.2.down_proj.weight\n",
      "base_model.model.language_model.model.layers.13.mlp.deepspeed_moe.gate.wg.weight\n",
      "base_model.model.language_model.model.layers.13.mlp.deepspeed_moe.experts.deepspeed_experts.0.gate_proj.weight\n",
      "base_model.model.language_model.model.layers.13.mlp.deepspeed_moe.experts.deepspeed_experts.0.up_proj.weight\n",
      "base_model.model.language_model.model.layers.13.mlp.deepspeed_moe.experts.deepspeed_experts.0.down_proj.weight\n",
      "base_model.model.language_model.model.layers.13.mlp.deepspeed_moe.experts.deepspeed_experts.1.gate_proj.weight\n",
      "base_model.model.language_model.model.layers.13.mlp.deepspeed_moe.experts.deepspeed_experts.1.up_proj.weight\n",
      "base_model.model.language_model.model.layers.13.mlp.deepspeed_moe.experts.deepspeed_experts.1.down_proj.weight\n",
      "base_model.model.language_model.model.layers.13.mlp.deepspeed_moe.experts.deepspeed_experts.2.gate_proj.weight\n",
      "base_model.model.language_model.model.layers.13.mlp.deepspeed_moe.experts.deepspeed_experts.2.up_proj.weight\n",
      "base_model.model.language_model.model.layers.13.mlp.deepspeed_moe.experts.deepspeed_experts.2.down_proj.weight\n",
      "base_model.model.language_model.model.layers.14.mlp.deepspeed_moe.gate.wg.weight\n",
      "base_model.model.language_model.model.layers.14.mlp.deepspeed_moe.experts.deepspeed_experts.0.gate_proj.weight\n",
      "base_model.model.language_model.model.layers.14.mlp.deepspeed_moe.experts.deepspeed_experts.0.up_proj.weight\n",
      "base_model.model.language_model.model.layers.14.mlp.deepspeed_moe.experts.deepspeed_experts.0.down_proj.weight\n",
      "base_model.model.language_model.model.layers.14.mlp.deepspeed_moe.experts.deepspeed_experts.1.gate_proj.weight\n",
      "base_model.model.language_model.model.layers.14.mlp.deepspeed_moe.experts.deepspeed_experts.1.up_proj.weight\n",
      "base_model.model.language_model.model.layers.14.mlp.deepspeed_moe.experts.deepspeed_experts.1.down_proj.weight\n",
      "base_model.model.language_model.model.layers.14.mlp.deepspeed_moe.experts.deepspeed_experts.2.gate_proj.weight\n",
      "base_model.model.language_model.model.layers.14.mlp.deepspeed_moe.experts.deepspeed_experts.2.up_proj.weight\n",
      "base_model.model.language_model.model.layers.14.mlp.deepspeed_moe.experts.deepspeed_experts.2.down_proj.weight\n",
      "base_model.model.language_model.model.layers.15.mlp.deepspeed_moe.gate.wg.weight\n",
      "base_model.model.language_model.model.layers.15.mlp.deepspeed_moe.experts.deepspeed_experts.0.gate_proj.weight\n",
      "base_model.model.language_model.model.layers.15.mlp.deepspeed_moe.experts.deepspeed_experts.0.up_proj.weight\n",
      "base_model.model.language_model.model.layers.15.mlp.deepspeed_moe.experts.deepspeed_experts.0.down_proj.weight\n",
      "base_model.model.language_model.model.layers.15.mlp.deepspeed_moe.experts.deepspeed_experts.1.gate_proj.weight\n",
      "base_model.model.language_model.model.layers.15.mlp.deepspeed_moe.experts.deepspeed_experts.1.up_proj.weight\n",
      "base_model.model.language_model.model.layers.15.mlp.deepspeed_moe.experts.deepspeed_experts.1.down_proj.weight\n",
      "base_model.model.language_model.model.layers.15.mlp.deepspeed_moe.experts.deepspeed_experts.2.gate_proj.weight\n",
      "base_model.model.language_model.model.layers.15.mlp.deepspeed_moe.experts.deepspeed_experts.2.up_proj.weight\n",
      "base_model.model.language_model.model.layers.15.mlp.deepspeed_moe.experts.deepspeed_experts.2.down_proj.weight\n"
     ]
    }
   ],
   "source": [
    "for key in ckpt_nonlora.keys():\n",
    "    print(key)"
   ]
  },
  {
   "cell_type": "code",
   "execution_count": null,
   "metadata": {},
   "outputs": [],
   "source": []
  }
 ],
 "metadata": {
  "kernelspec": {
   "display_name": "base",
   "language": "python",
   "name": "python3"
  },
  "language_info": {
   "codemirror_mode": {
    "name": "ipython",
    "version": 3
   },
   "file_extension": ".py",
   "mimetype": "text/x-python",
   "name": "python",
   "nbconvert_exporter": "python",
   "pygments_lexer": "ipython3",
   "version": "3.10.4"
  }
 },
 "nbformat": 4,
 "nbformat_minor": 2
}
